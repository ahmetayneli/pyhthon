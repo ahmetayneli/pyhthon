{
 "cells": [
  {
   "cell_type": "code",
   "execution_count": 2,
   "id": "bottom-flashing",
   "metadata": {},
   "outputs": [],
   "source": [
    "# Importing all necessary libraries\n",
    "from keras.preprocessing.image import ImageDataGenerator\n",
    "from keras.models import Sequential\n",
    "from keras.layers import Conv2D, MaxPooling2D\n",
    "from keras.layers import Activation, Dropout, Flatten, Dense\n",
    "from keras import backend as K\n",
    "\n",
    "img_width, img_height = 224, 224\n"
   ]
  },
  {
   "cell_type": "code",
   "execution_count": 3,
   "id": "restricted-landscape",
   "metadata": {},
   "outputs": [],
   "source": [
    "train_data_dir = 'v_data/train'\n",
    "validation_data_dir = 'v_data/test'\n",
    "nb_train_samples =400\n",
    "nb_validation_samples = 100\n",
    "epochs = 10\n",
    "batch_size = 16\n"
   ]
  },
  {
   "cell_type": "code",
   "execution_count": 4,
   "id": "pointed-radio",
   "metadata": {},
   "outputs": [],
   "source": [
    "if K.image_data_format() == 'channels_first':\n",
    "\tinput_shape = (3, img_width, img_height)\n",
    "else:\n",
    "\tinput_shape = (img_width, img_height, 3)\n"
   ]
  },
  {
   "cell_type": "code",
   "execution_count": 5,
   "id": "bound-wonder",
   "metadata": {},
   "outputs": [],
   "source": [
    "model = Sequential()\n",
    "model.add(Conv2D(32, (2, 2), input_shape=input_shape))\n",
    "model.add(Activation('relu'))\n",
    "model.add(MaxPooling2D(pool_size=(2, 2)))\n",
    "\n",
    "model.add(Conv2D(32, (2, 2)))\n",
    "model.add(Activation('relu'))\n",
    "model.add(MaxPooling2D(pool_size=(2, 2)))\n",
    "\n",
    "model.add(Conv2D(64, (2, 2)))\n",
    "model.add(Activation('relu'))\n",
    "model.add(MaxPooling2D(pool_size=(2, 2)))\n",
    "\n",
    "model.add(Flatten())\n",
    "model.add(Dense(64))\n",
    "model.add(Activation('relu'))\n",
    "model.add(Dropout(0.5))\n",
    "model.add(Dense(1))\n",
    "model.add(Activation('sigmoid'))\n"
   ]
  },
  {
   "cell_type": "code",
   "execution_count": 6,
   "id": "seeing-printing",
   "metadata": {},
   "outputs": [],
   "source": [
    "model.compile(loss='binary_crossentropy',\n",
    "\t\t\toptimizer='rmsprop',\n",
    "\t\t\tmetrics=['accuracy'])\n"
   ]
  },
  {
   "cell_type": "code",
   "execution_count": 7,
   "id": "fleet-smart",
   "metadata": {},
   "outputs": [
    {
     "name": "stdout",
     "output_type": "stream",
     "text": [
      "Found 400 images belonging to 2 classes.\n",
      "Found 100 images belonging to 2 classes.\n",
      "WARNING:tensorflow:From <ipython-input-7-2a1461ac7ecd>:22: Model.fit_generator (from tensorflow.python.keras.engine.training) is deprecated and will be removed in a future version.\n",
      "Instructions for updating:\n",
      "Please use Model.fit, which supports generators.\n",
      "Epoch 1/10\n",
      "25/25 [==============================] - 20s 789ms/step - loss: 0.9361 - accuracy: 0.6025 - val_loss: 0.5599 - val_accuracy: 0.6146\n",
      "Epoch 2/10\n",
      "25/25 [==============================] - 18s 720ms/step - loss: 0.5549 - accuracy: 0.7225 - val_loss: 0.4318 - val_accuracy: 0.7708\n",
      "Epoch 3/10\n",
      "25/25 [==============================] - 17s 671ms/step - loss: 0.4838 - accuracy: 0.7850 - val_loss: 0.3576 - val_accuracy: 0.8229\n",
      "Epoch 4/10\n",
      "25/25 [==============================] - 18s 715ms/step - loss: 0.4695 - accuracy: 0.8050 - val_loss: 0.3056 - val_accuracy: 0.8958\n",
      "Epoch 5/10\n",
      "25/25 [==============================] - 23s 914ms/step - loss: 0.3614 - accuracy: 0.8600 - val_loss: 0.2552 - val_accuracy: 0.8958\n",
      "Epoch 6/10\n",
      "25/25 [==============================] - 26s 1s/step - loss: 0.4160 - accuracy: 0.8425 - val_loss: 0.2722 - val_accuracy: 0.9167\n",
      "Epoch 7/10\n",
      "25/25 [==============================] - 22s 884ms/step - loss: 0.3349 - accuracy: 0.8650 - val_loss: 0.2570 - val_accuracy: 0.8958\n",
      "Epoch 8/10\n",
      "25/25 [==============================] - 18s 719ms/step - loss: 0.3795 - accuracy: 0.8700 - val_loss: 0.2653 - val_accuracy: 0.8958\n",
      "Epoch 9/10\n",
      "25/25 [==============================] - 18s 731ms/step - loss: 0.3278 - accuracy: 0.8750 - val_loss: 0.3404 - val_accuracy: 0.8542\n",
      "Epoch 10/10\n",
      "25/25 [==============================] - 17s 697ms/step - loss: 0.3115 - accuracy: 0.8950 - val_loss: 0.2483 - val_accuracy: 0.8646\n"
     ]
    },
    {
     "data": {
      "text/plain": [
       "<tensorflow.python.keras.callbacks.History at 0x1efa1b87190>"
      ]
     },
     "execution_count": 7,
     "metadata": {},
     "output_type": "execute_result"
    }
   ],
   "source": [
    "from PIL import Image\n",
    "train_datagen = ImageDataGenerator(\n",
    "\trescale=1. / 255,\n",
    "\tshear_range=0.2,\n",
    "\tzoom_range=0.2,\n",
    "\thorizontal_flip=True)\n",
    "\n",
    "test_datagen = ImageDataGenerator(rescale=1. / 255)\n",
    "\n",
    "train_generator = train_datagen.flow_from_directory(\n",
    "\ttrain_data_dir,\n",
    "\ttarget_size=(img_width, img_height),\n",
    "\tbatch_size=batch_size,\n",
    "\tclass_mode='binary')\n",
    "\n",
    "validation_generator = test_datagen.flow_from_directory(\n",
    "\tvalidation_data_dir,\n",
    "\ttarget_size=(img_width, img_height),\n",
    "\tbatch_size=batch_size,\n",
    "\tclass_mode='binary')\n",
    "\n",
    "model.fit_generator(\n",
    "\ttrain_generator,\n",
    "\tsteps_per_epoch=nb_train_samples // batch_size,\n",
    "\tepochs=epochs,\n",
    "\tvalidation_data=validation_generator,\n",
    "\tvalidation_steps=nb_validation_samples // batch_size)\n"
   ]
  },
  {
   "cell_type": "code",
   "execution_count": null,
   "id": "collected-washington",
   "metadata": {},
   "outputs": [],
   "source": []
  }
 ],
 "metadata": {
  "kernelspec": {
   "display_name": "Python 3",
   "language": "python",
   "name": "python3"
  },
  "language_info": {
   "codemirror_mode": {
    "name": "ipython",
    "version": 3
   },
   "file_extension": ".py",
   "mimetype": "text/x-python",
   "name": "python",
   "nbconvert_exporter": "python",
   "pygments_lexer": "ipython3",
   "version": "3.8.8"
  }
 },
 "nbformat": 4,
 "nbformat_minor": 5
}
